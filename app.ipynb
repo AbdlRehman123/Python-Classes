{
 "cells": [
  {
   "cell_type": "markdown",
   "id": "43d64484",
   "metadata": {},
   "source": [
    "Object oriented programing Language"
   ]
  },
  {
   "cell_type": "code",
   "execution_count": null,
   "id": "0c555f78",
   "metadata": {},
   "outputs": [
    {
     "ename": "NameError",
     "evalue": "name 'Person' is not defined",
     "output_type": "error",
     "traceback": [
      "\u001b[1;31m---------------------------------------------------------------------------\u001b[0m",
      "\u001b[1;31mNameError\u001b[0m                                 Traceback (most recent call last)",
      "Cell \u001b[1;32mIn[6], line 11\u001b[0m\n\u001b[0;32m      8\u001b[0m     \u001b[38;5;28mself\u001b[39m\u001b[38;5;241m.\u001b[39mage \u001b[38;5;241m=\u001b[39muser_age\n\u001b[0;32m     10\u001b[0m \u001b[38;5;66;03m#instance\u001b[39;00m\n\u001b[1;32m---> 11\u001b[0m person1\u001b[38;5;241m=\u001b[39m\u001b[43mPerson\u001b[49m(\u001b[38;5;124m\"\u001b[39m\u001b[38;5;124mAli\u001b[39m\u001b[38;5;124m\"\u001b[39m,\u001b[38;5;241m20\u001b[39m)\n\u001b[0;32m     12\u001b[0m \u001b[38;5;28mprint\u001b[39m(\u001b[38;5;124m\"\u001b[39m\u001b[38;5;124mperson1.name>>>\u001b[39m\u001b[38;5;124m\"\u001b[39m,person1\u001b[38;5;241m.\u001b[39mname)\n\u001b[0;32m     13\u001b[0m \u001b[38;5;28mprint\u001b[39m(\u001b[38;5;124m\"\u001b[39m\u001b[38;5;124mperson1.age>>>\u001b[39m\u001b[38;5;124m\"\u001b[39m,person1\u001b[38;5;241m.\u001b[39mage)\n",
      "\u001b[1;31mNameError\u001b[0m: name 'Person' is not defined"
     ]
    }
   ],
   "source": [
    "class Student:\n",
    "    name:str = \"Ali\" # property ko Atribute kahte hn\n",
    "    age:int = 20\n",
    "\n",
    "def _init_(self,name,age): #constructor\n",
    "    print(\"self>>>,self\")\n",
    "    self.name =user_name\n",
    "    self.age =user_age\n",
    "\n",
    "#instance\n",
    "person1 = Person(\"Ali\",20)\n",
    "print(\"person1.name>>>\",person1.name)\n",
    "print(\"person1.age>>>\",person1.age)\n",
    " "
   ]
  },
  {
   "cell_type": "markdown",
   "id": "38de6069",
   "metadata": {},
   "source": [
    "OOPS CONTINUE 3&4"
   ]
  },
  {
   "cell_type": "code",
   "execution_count": null,
   "id": "64eb0f6d",
   "metadata": {},
   "outputs": [],
   "source": [
    "@dataclass\n",
    "\n",
    "class Employe:\n",
    "    name:str\n",
    "    __employe_id:int\n",
    "    # __sallery:int\n",
    "\n",
    "def sallery_milege(self,name):\n",
    "    print(\"{self.name}ko sallery mil gae\")\n",
    "\n",
    "def __adhi_sallery_mili(self,__Employe_id):\n",
    "    if __Employe_id==1:\n",
    "        return 10000\n",
    "    elif__Employe_id:\n",
    "        \n",
    "\n",
    "\n",
    "Ahmed = Employe(\"Ahmed\",1)\n",
    "Ahmed.sallery_mil_gae(\"Ahmed\")\n",
    "    \n"
   ]
  },
  {
   "cell_type": "markdown",
   "id": "9f1d9346",
   "metadata": {},
   "source": [
    "Inheritance"
   ]
  },
  {
   "cell_type": "code",
   "execution_count": null,
   "id": "7e1f6ff7",
   "metadata": {},
   "outputs": [
    {
     "ename": "TypeError",
     "evalue": "Person1() takes no arguments",
     "output_type": "error",
     "traceback": [
      "\u001b[1;31m---------------------------------------------------------------------------\u001b[0m",
      "\u001b[1;31mTypeError\u001b[0m                                 Traceback (most recent call last)",
      "Cell \u001b[1;32mIn[5], line 10\u001b[0m\n\u001b[0;32m      7\u001b[0m \u001b[38;5;28;01mclass\u001b[39;00m\u001b[38;5;250m \u001b[39m\u001b[38;5;21;01mPerson2\u001b[39;00m(Person1):\n\u001b[0;32m      8\u001b[0m     country:\u001b[38;5;28mstr\u001b[39m\n\u001b[1;32m---> 10\u001b[0m Alishba\u001b[38;5;241m=\u001b[39m\u001b[43mPerson1\u001b[49m\u001b[43m(\u001b[49m\u001b[38;5;124;43m\"\u001b[39;49m\u001b[38;5;124;43mAlishba\u001b[39;49m\u001b[38;5;124;43m\"\u001b[39;49m\u001b[43m,\u001b[49m\u001b[38;5;124;43m\"\u001b[39;49m\u001b[38;5;124;43mKarachi\u001b[39;49m\u001b[38;5;124;43m\"\u001b[39;49m\u001b[43m,\u001b[49m\u001b[38;5;124;43m\"\u001b[39;49m\u001b[38;5;124;43mPakistan\u001b[39;49m\u001b[38;5;124;43m\"\u001b[39;49m\u001b[43m)\u001b[49m\n\u001b[0;32m     11\u001b[0m \u001b[38;5;28mprint\u001b[39m(Alishba)\n",
      "\u001b[1;31mTypeError\u001b[0m: Person1() takes no arguments"
     ]
    }
   ],
   "source": [
    "@dataclass\n",
    "class Person1:\n",
    "    Name:str\n",
    "    City:str\n",
    "\n",
    "@dataclass\n",
    "class Person2(Person1):\n",
    "    country:str\n",
    "\n",
    "Alishba=Person1(\"Alishba\",\"Karachi\",\"Pakistan\")\n",
    "print(Alishba)"
   ]
  },
  {
   "cell_type": "markdown",
   "id": "2a2b2f43",
   "metadata": {},
   "source": [
    "Continueeeeeee"
   ]
  },
  {
   "cell_type": "code",
   "execution_count": null,
   "id": "d5d08efe",
   "metadata": {},
   "outputs": [],
   "source": [
    "# Inheritance\n",
    "# Polymorphism\n",
    "\n",
    "\n",
    "#inheritance: # Virasat mein koi cheez mile\n",
    "\n",
    "class PErson:\n",
    "    def__init_(self,)\n",
    "\n",
    "    ajhsdjhg"
   ]
  }
 ],
 "metadata": {
  "kernelspec": {
   "display_name": "Python 3",
   "language": "python",
   "name": "python3"
  },
  "language_info": {
   "codemirror_mode": {
    "name": "ipython",
    "version": 3
   },
   "file_extension": ".py",
   "mimetype": "text/x-python",
   "name": "python",
   "nbconvert_exporter": "python",
   "pygments_lexer": "ipython3",
   "version": "3.13.1"
  }
 },
 "nbformat": 4,
 "nbformat_minor": 5
}
